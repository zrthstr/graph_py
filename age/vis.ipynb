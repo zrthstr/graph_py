{
 "cells": [
  {
   "cell_type": "code",
   "execution_count": 1,
   "id": "d45c6f43-38ef-4477-b6c5-7d30113988f9",
   "metadata": {},
   "outputs": [
    {
     "ename": "ModuleNotFoundError",
     "evalue": "No module named 'IPython.isplay'",
     "output_type": "error",
     "traceback": [
      "\u001b[0;31m---------------------------------------------------------------------------\u001b[0m",
      "\u001b[0;31mModuleNotFoundError\u001b[0m                       Traceback (most recent call last)",
      "Cell \u001b[0;32mIn[1], line 10\u001b[0m\n\u001b[1;32m      5\u001b[0m data \u001b[38;5;241m=\u001b[39m ng\u001b[38;5;241m.\u001b[39mdump_nodes_with_rel()\n\u001b[1;32m      7\u001b[0m ng\u001b[38;5;241m.\u001b[39mclose()\n\u001b[0;32m---> 10\u001b[0m \u001b[38;5;28;01mfrom\u001b[39;00m\u001b[38;5;250m \u001b[39m\u001b[38;5;21;01mIPython\u001b[39;00m\u001b[38;5;21;01m.\u001b[39;00m\u001b[38;5;21;01misplay\u001b[39;00m\u001b[38;5;250m \u001b[39m\u001b[38;5;28;01mimport\u001b[39;00m display, HTML, Javascript\n\u001b[1;32m     12\u001b[0m display(Javascript(\u001b[38;5;124m\"\"\"\u001b[39m\n\u001b[1;32m     13\u001b[0m \u001b[38;5;124mvar iframes = document.getElementsByTagName(\u001b[39m\u001b[38;5;124m'\u001b[39m\u001b[38;5;124miframe\u001b[39m\u001b[38;5;124m'\u001b[39m\u001b[38;5;124m);\u001b[39m\n\u001b[1;32m     14\u001b[0m \u001b[38;5;124mfor (var i = 0; i < iframes.length; i++) \u001b[39m\u001b[38;5;124m{\u001b[39m\n\u001b[1;32m     15\u001b[0m \u001b[38;5;124m    iframes[i].style.height = \u001b[39m\u001b[38;5;124m\"\u001b[39m\u001b[38;5;124m800px\u001b[39m\u001b[38;5;124m\"\u001b[39m\u001b[38;5;124m;\u001b[39m\n\u001b[1;32m     16\u001b[0m \u001b[38;5;124m}\u001b[39m\n\u001b[1;32m     17\u001b[0m \u001b[38;5;124m\"\"\"\u001b[39m))\n",
      "\u001b[0;31mModuleNotFoundError\u001b[0m: No module named 'IPython.isplay'"
     ]
    }
   ],
   "source": [
    "from main import NetGraph\n",
    "from vis import visualize_domain_graph\n",
    "\n",
    "ng = NetGraph()\n",
    "data = ng.dump_nodes_with_rel()\n",
    "\n",
    "ng.close()\n",
    "\n",
    "\n",
    "from IPython.display import display, HTML, Javascript\n",
    "\n",
    "display(Javascript(\"\"\"\n",
    "var iframes = document.getElementsByTagName('iframe');\n",
    "for (var i = 0; i < iframes.length; i++) {\n",
    "    iframes[i].style.height = \"800px\";\n",
    "}\n",
    "\"\"\"))"
   ]
  },
  {
   "cell_type": "code",
   "execution_count": null,
   "id": "080190cd-938f-4f46-ae7e-009ea0febbc5",
   "metadata": {},
   "outputs": [],
   "source": [
    "# print(data)"
   ]
  },
  {
   "cell_type": "code",
   "execution_count": null,
   "id": "5d404f45-65c2-4dc7-9fc6-2f31e0df65de",
   "metadata": {
    "scrolled": true
   },
   "outputs": [],
   "source": [
    "visualize_domain_graph(data)"
   ]
  },
  {
   "cell_type": "code",
   "execution_count": null,
   "id": "bcec816e-4ae8-4b13-9a5c-9b38c12bcb9f",
   "metadata": {},
   "outputs": [],
   "source": []
  },
  {
   "cell_type": "code",
   "execution_count": null,
   "id": "a583eee1-9703-45e3-beea-d2c2d8741b18",
   "metadata": {},
   "outputs": [],
   "source": []
  }
 ],
 "metadata": {
  "kernelspec": {
   "display_name": "apache-age-test",
   "language": "python",
   "name": "apache-age-test"
  },
  "language_info": {
   "codemirror_mode": {
    "name": "ipython",
    "version": 3
   },
   "file_extension": ".py",
   "mimetype": "text/x-python",
   "name": "python",
   "nbconvert_exporter": "python",
   "pygments_lexer": "ipython3",
   "version": "3.12.8"
  }
 },
 "nbformat": 4,
 "nbformat_minor": 5
}
