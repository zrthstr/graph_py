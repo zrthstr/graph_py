{
 "cells": [
  {
   "cell_type": "markdown",
   "id": "7b521333-8a26-4a51-8d8a-8b06ef33de34",
   "metadata": {},
   "source": [
    "# "
   ]
  },
  {
   "cell_type": "markdown",
   "id": "c3b80864-6b77-4a71-9819-27f181794c74",
   "metadata": {},
   "source": [
    "# "
   ]
  },
  {
   "cell_type": "code",
   "execution_count": 3,
   "id": "04cdf564",
   "metadata": {
    "scrolled": true
   },
   "outputs": [
    {
     "name": "stdout",
     "output_type": "stream",
     "text": [
      "Root: cxengine-apac-stg.tesla.com\n",
      "Relationships: None\n"
     ]
    },
    {
     "ename": "AttributeError",
     "evalue": "'NoneType' object has no attribute 'host'",
     "output_type": "error",
     "traceback": [
      "\u001b[0;31m---------------------------------------------------------------------------\u001b[0m",
      "\u001b[0;31mAttributeError\u001b[0m                            Traceback (most recent call last)",
      "Cell \u001b[0;32mIn[3], line 11\u001b[0m\n\u001b[1;32m      9\u001b[0m     \u001b[38;5;28mprint\u001b[39m(\u001b[38;5;124mf\u001b[39m\u001b[38;5;124m\"\u001b[39m\u001b[38;5;124mRoot: \u001b[39m\u001b[38;5;132;01m{\u001b[39;00mroot\u001b[38;5;241m.\u001b[39mhost\u001b[38;5;132;01m}\u001b[39;00m\u001b[38;5;124m\"\u001b[39m)\n\u001b[1;32m     10\u001b[0m     \u001b[38;5;28mprint\u001b[39m(\u001b[38;5;124mf\u001b[39m\u001b[38;5;124m\"\u001b[39m\u001b[38;5;124mRelationships: \u001b[39m\u001b[38;5;132;01m{\u001b[39;00mrels\u001b[38;5;132;01m}\u001b[39;00m\u001b[38;5;124m\"\u001b[39m)\n\u001b[0;32m---> 11\u001b[0m     \u001b[38;5;28mprint\u001b[39m(\u001b[38;5;124mf\u001b[39m\u001b[38;5;124m\"\u001b[39m\u001b[38;5;124mSub: \u001b[39m\u001b[38;5;132;01m{\u001b[39;00m\u001b[43msub\u001b[49m\u001b[38;5;241;43m.\u001b[39;49m\u001b[43mhost\u001b[49m\u001b[38;5;132;01m}\u001b[39;00m\u001b[38;5;124m\"\u001b[39m)\n\u001b[1;32m     12\u001b[0m     \u001b[38;5;28mprint\u001b[39m(\u001b[38;5;124m\"\u001b[39m\u001b[38;5;124m---\u001b[39m\u001b[38;5;124m\"\u001b[39m)\n\u001b[1;32m     13\u001b[0m visualize_domain_graph(data)\n",
      "\u001b[0;31mAttributeError\u001b[0m: 'NoneType' object has no attribute 'host'"
     ]
    }
   ],
   "source": [
    "from app import NetGraph\n",
    "from vis import visualize_domain_graph\n",
    "\n",
    "ng = NetGraph()\n",
    "#data = ng.dump_nodes_with_rel()\n",
    "data = ng.dump_nodes_with_rel_as_objects()\n",
    "ng.close()\n",
    "for root, rels, sub in data:\n",
    "    print(f\"Root: {root.host}\")\n",
    "    print(f\"Relationships: {rels}\")\n",
    "    print(f\"Sub: {sub.host}\")\n",
    "    print(\"---\")\n",
    "visualize_domain_graph(data)"
   ]
  },
  {
   "cell_type": "code",
   "execution_count": null,
   "id": "7cc8662b-ff24-4066-980c-ce8d901beb0d",
   "metadata": {},
   "outputs": [],
   "source": []
  },
  {
   "cell_type": "code",
   "execution_count": null,
   "id": "4367503a-8010-4b88-915d-b8bcf9d637c6",
   "metadata": {},
   "outputs": [],
   "source": []
  }
 ],
 "metadata": {
  "kernelspec": {
   "display_name": "apache-age-test",
   "language": "python",
   "name": "apache-age-test"
  },
  "language_info": {
   "codemirror_mode": {
    "name": "ipython",
    "version": 3
   },
   "file_extension": ".py",
   "mimetype": "text/x-python",
   "name": "python",
   "nbconvert_exporter": "python",
   "pygments_lexer": "ipython3",
   "version": "3.12.8"
  }
 },
 "nbformat": 4,
 "nbformat_minor": 5
}
