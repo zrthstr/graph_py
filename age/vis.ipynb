{
 "cells": [
  {
   "cell_type": "markdown",
   "id": "7b521333-8a26-4a51-8d8a-8b06ef33de34",
   "metadata": {},
   "source": [
    "# "
   ]
  },
  {
   "cell_type": "code",
   "execution_count": 2,
   "id": "04cdf564",
   "metadata": {
    "scrolled": true
   },
   "outputs": [
    {
     "name": "stderr",
     "output_type": "stream",
     "text": [
      "/home/zrth/test/graph_py/age/.venv/lib/python3.12/site-packages/age/age.py:28: SyntaxWarning: invalid escape sequence '\\s'\n",
      "  WHITESPACE = re.compile('\\s')\n"
     ]
    },
    {
     "ename": "SqlExecutionError",
     "evalue": "('Execution ERR[relation \"test_graph.DomainRoot\" does not exist\\n](SELECT * from cypher(NULL,NULL) as (root AGTYPE,rels AGTYPE,sub AGTYPE,nodes AGTYPE);)', UndefinedTable('relation \"test_graph.DomainRoot\" does not exist\\n'))",
     "output_type": "error",
     "traceback": [
      "\u001b[0;31m---------------------------------------------------------------------------\u001b[0m",
      "\u001b[0;31mUndefinedTable\u001b[0m                            Traceback (most recent call last)",
      "File \u001b[0;32m~/test/graph_py/age/.venv/lib/python3.12/site-packages/age/age.py:138\u001b[0m, in \u001b[0;36mexecCypher\u001b[0;34m(conn, graphName, cypherStmt, cols, params)\u001b[0m\n\u001b[1;32m    137\u001b[0m \u001b[38;5;28;01mtry\u001b[39;00m:\n\u001b[0;32m--> 138\u001b[0m     \u001b[43mcursor\u001b[49m\u001b[38;5;241;43m.\u001b[39;49m\u001b[43mexecute\u001b[49m\u001b[43m(\u001b[49m\u001b[43mstmt\u001b[49m\u001b[43m)\u001b[49m\n\u001b[1;32m    139\u001b[0m     \u001b[38;5;28;01mreturn\u001b[39;00m cursor\n",
      "\u001b[0;31mUndefinedTable\u001b[0m: relation \"test_graph.DomainRoot\" does not exist\n",
      "\nDuring handling of the above exception, another exception occurred:\n",
      "\u001b[0;31mSqlExecutionError\u001b[0m                         Traceback (most recent call last)",
      "Cell \u001b[0;32mIn[2], line 6\u001b[0m\n\u001b[1;32m      4\u001b[0m ng \u001b[38;5;241m=\u001b[39m NetGraph()\n\u001b[1;32m      5\u001b[0m \u001b[38;5;66;03m#data = ng.dump_nodes_with_rel()\u001b[39;00m\n\u001b[0;32m----> 6\u001b[0m data \u001b[38;5;241m=\u001b[39m \u001b[43mng\u001b[49m\u001b[38;5;241;43m.\u001b[39;49m\u001b[43mdump_nodes_with_rel_as_objects\u001b[49m\u001b[43m(\u001b[49m\u001b[43m)\u001b[49m\n\u001b[1;32m      7\u001b[0m \u001b[38;5;28;01mfor\u001b[39;00m root, rels, sub \u001b[38;5;129;01min\u001b[39;00m data:\n\u001b[1;32m      8\u001b[0m     \u001b[38;5;28mprint\u001b[39m(\u001b[38;5;124mf\u001b[39m\u001b[38;5;124m\"\u001b[39m\u001b[38;5;124mRoot: \u001b[39m\u001b[38;5;132;01m{\u001b[39;00mroot\u001b[38;5;241m.\u001b[39mhost\u001b[38;5;132;01m}\u001b[39;00m\u001b[38;5;124m\"\u001b[39m)\n",
      "File \u001b[0;32m~/test/graph_py/age/app.py:229\u001b[0m, in \u001b[0;36mNetGraph.dump_nodes_with_rel_as_objects\u001b[0;34m(self)\u001b[0m\n\u001b[1;32m    227\u001b[0m \u001b[38;5;28;01mdef\u001b[39;00m\u001b[38;5;250m \u001b[39m\u001b[38;5;21mdump_nodes_with_rel_as_objects\u001b[39m(\u001b[38;5;28mself\u001b[39m):\n\u001b[1;32m    228\u001b[0m \u001b[38;5;250m    \u001b[39m\u001b[38;5;124;03m\"\"\"Convert database dump to domain objects.\"\"\"\u001b[39;00m\n\u001b[0;32m--> 229\u001b[0m     raw_data \u001b[38;5;241m=\u001b[39m \u001b[38;5;28;43mself\u001b[39;49m\u001b[38;5;241;43m.\u001b[39;49m\u001b[43mdump_nodes_with_rel\u001b[49m\u001b[43m(\u001b[49m\u001b[43m)\u001b[49m\n\u001b[1;32m    230\u001b[0m     result \u001b[38;5;241m=\u001b[39m []\n\u001b[1;32m    231\u001b[0m     \u001b[38;5;28;01mfor\u001b[39;00m row \u001b[38;5;129;01min\u001b[39;00m raw_data:\n",
      "File \u001b[0;32m~/test/graph_py/age/app.py:224\u001b[0m, in \u001b[0;36mNetGraph.dump_nodes_with_rel\u001b[0;34m(self)\u001b[0m\n\u001b[1;32m    218\u001b[0m \u001b[38;5;250m\u001b[39m\u001b[38;5;124;03m\"\"\"Raw dump of nodes with relationships from the database.\"\"\"\u001b[39;00m\n\u001b[1;32m    219\u001b[0m query \u001b[38;5;241m=\u001b[39m \u001b[38;5;124m\"\"\"\u001b[39m\n\u001b[1;32m    220\u001b[0m \u001b[38;5;124mMATCH path=(root:DomainRoot)-[:HAS_SUBDOMAIN*]->(sub:Domain)\u001b[39m\n\u001b[1;32m    221\u001b[0m \u001b[38;5;124mWHERE sub.source <> \u001b[39m\u001b[38;5;124m'\u001b[39m\u001b[38;5;124mimplicit\u001b[39m\u001b[38;5;124m'\u001b[39m\n\u001b[1;32m    222\u001b[0m \u001b[38;5;124mRETURN root, RELATIONSHIPS(path), sub, NODES(path)\u001b[39m\n\u001b[1;32m    223\u001b[0m \u001b[38;5;124m\u001b[39m\u001b[38;5;124m\"\"\"\u001b[39m\n\u001b[0;32m--> 224\u001b[0m ret \u001b[38;5;241m=\u001b[39m \u001b[38;5;28;43mself\u001b[39;49m\u001b[38;5;241;43m.\u001b[39;49m\u001b[43mconn\u001b[49m\u001b[38;5;241;43m.\u001b[39;49m\u001b[43mexecCypher\u001b[49m\u001b[43m(\u001b[49m\u001b[43mquery\u001b[49m\u001b[43m,\u001b[49m\u001b[43m \u001b[49m\u001b[43mcols\u001b[49m\u001b[38;5;241;43m=\u001b[39;49m\u001b[43m[\u001b[49m\u001b[38;5;124;43m\"\u001b[39;49m\u001b[38;5;124;43mroot AGTYPE\u001b[39;49m\u001b[38;5;124;43m\"\u001b[39;49m\u001b[43m,\u001b[49m\u001b[43m \u001b[49m\u001b[38;5;124;43m\"\u001b[39;49m\u001b[38;5;124;43mrels AGTYPE\u001b[39;49m\u001b[38;5;124;43m\"\u001b[39;49m\u001b[43m,\u001b[49m\u001b[43m \u001b[49m\u001b[38;5;124;43m\"\u001b[39;49m\u001b[38;5;124;43msub AGTYPE\u001b[39;49m\u001b[38;5;124;43m\"\u001b[39;49m\u001b[43m,\u001b[49m\u001b[43m \u001b[49m\u001b[38;5;124;43m\"\u001b[39;49m\u001b[38;5;124;43mnodes AGTYPE\u001b[39;49m\u001b[38;5;124;43m\"\u001b[39;49m\u001b[43m]\u001b[49m\u001b[43m)\u001b[49m\n\u001b[1;32m    225\u001b[0m \u001b[38;5;28;01mreturn\u001b[39;00m ret\u001b[38;5;241m.\u001b[39mfetchall()\n",
      "File \u001b[0;32m~/test/graph_py/age/.venv/lib/python3.12/site-packages/age/age.py:198\u001b[0m, in \u001b[0;36mAge.execCypher\u001b[0;34m(self, cypherStmt, cols, params)\u001b[0m\n\u001b[1;32m    197\u001b[0m \u001b[38;5;28;01mdef\u001b[39;00m\u001b[38;5;250m \u001b[39m\u001b[38;5;21mexecCypher\u001b[39m(\u001b[38;5;28mself\u001b[39m, cypherStmt:\u001b[38;5;28mstr\u001b[39m, cols:\u001b[38;5;28mlist\u001b[39m\u001b[38;5;241m=\u001b[39m\u001b[38;5;28;01mNone\u001b[39;00m, params:\u001b[38;5;28mtuple\u001b[39m\u001b[38;5;241m=\u001b[39m\u001b[38;5;28;01mNone\u001b[39;00m) \u001b[38;5;241m-\u001b[39m\u001b[38;5;241m>\u001b[39m ext\u001b[38;5;241m.\u001b[39mcursor :\n\u001b[0;32m--> 198\u001b[0m     \u001b[38;5;28;01mreturn\u001b[39;00m \u001b[43mexecCypher\u001b[49m\u001b[43m(\u001b[49m\u001b[38;5;28;43mself\u001b[39;49m\u001b[38;5;241;43m.\u001b[39;49m\u001b[43mconnection\u001b[49m\u001b[43m,\u001b[49m\u001b[43m \u001b[49m\u001b[38;5;28;43mself\u001b[39;49m\u001b[38;5;241;43m.\u001b[39;49m\u001b[43mgraphName\u001b[49m\u001b[43m,\u001b[49m\u001b[43m \u001b[49m\u001b[43mcypherStmt\u001b[49m\u001b[43m,\u001b[49m\u001b[43m \u001b[49m\u001b[43mcols\u001b[49m\u001b[38;5;241;43m=\u001b[39;49m\u001b[43mcols\u001b[49m\u001b[43m,\u001b[49m\u001b[43m \u001b[49m\u001b[43mparams\u001b[49m\u001b[38;5;241;43m=\u001b[39;49m\u001b[43mparams\u001b[49m\u001b[43m)\u001b[49m\n",
      "File \u001b[0;32m~/test/graph_py/age/.venv/lib/python3.12/site-packages/age/age.py:145\u001b[0m, in \u001b[0;36mexecCypher\u001b[0;34m(conn, graphName, cypherStmt, cols, params)\u001b[0m\n\u001b[1;32m    143\u001b[0m \u001b[38;5;28;01mexcept\u001b[39;00m \u001b[38;5;167;01mException\u001b[39;00m \u001b[38;5;28;01mas\u001b[39;00m cause:\n\u001b[1;32m    144\u001b[0m     conn\u001b[38;5;241m.\u001b[39mrollback()\n\u001b[0;32m--> 145\u001b[0m     \u001b[38;5;28;01mraise\u001b[39;00m SqlExecutionError(\u001b[38;5;124m\"\u001b[39m\u001b[38;5;124mExecution ERR[\u001b[39m\u001b[38;5;124m\"\u001b[39m \u001b[38;5;241m+\u001b[39m \u001b[38;5;28mstr\u001b[39m(cause) \u001b[38;5;241m+\u001b[39m\u001b[38;5;124m\"\u001b[39m\u001b[38;5;124m](\u001b[39m\u001b[38;5;124m\"\u001b[39m \u001b[38;5;241m+\u001b[39m stmt \u001b[38;5;241m+\u001b[39m\u001b[38;5;124m\"\u001b[39m\u001b[38;5;124m)\u001b[39m\u001b[38;5;124m\"\u001b[39m, cause)\n",
      "\u001b[0;31mSqlExecutionError\u001b[0m: ('Execution ERR[relation \"test_graph.DomainRoot\" does not exist\\n](SELECT * from cypher(NULL,NULL) as (root AGTYPE,rels AGTYPE,sub AGTYPE,nodes AGTYPE);)', UndefinedTable('relation \"test_graph.DomainRoot\" does not exist\\n'))"
     ]
    }
   ],
   "source": [
    "from app import NetGraph\n",
    "from vis import visualize_domain_graph\n",
    "\n",
    "ng = NetGraph()\n",
    "#data = ng.dump_nodes_with_rel()\n",
    "data = ng.dump_nodes_with_rel_as_objects()\n",
    "for root, rels, sub in data:\n",
    "    print(f\"Root: {root.host}\")\n",
    "    print(f\"Relationships: {rels}\")\n",
    "    print(f\"Sub: {sub.host}\")\n",
    "    print(\"---\")\n",
    "visualize_domain_graph(data)"
   ]
  },
  {
   "cell_type": "code",
   "execution_count": null,
   "id": "7cc8662b-ff24-4066-980c-ce8d901beb0d",
   "metadata": {},
   "outputs": [],
   "source": []
  },
  {
   "cell_type": "code",
   "execution_count": null,
   "id": "4367503a-8010-4b88-915d-b8bcf9d637c6",
   "metadata": {},
   "outputs": [],
   "source": []
  }
 ],
 "metadata": {
  "kernelspec": {
   "display_name": "apache-age-test",
   "language": "python",
   "name": "apache-age-test"
  },
  "language_info": {
   "codemirror_mode": {
    "name": "ipython",
    "version": 3
   },
   "file_extension": ".py",
   "mimetype": "text/x-python",
   "name": "python",
   "nbconvert_exporter": "python",
   "pygments_lexer": "ipython3",
   "version": "3.12.8"
  }
 },
 "nbformat": 4,
 "nbformat_minor": 5
}
